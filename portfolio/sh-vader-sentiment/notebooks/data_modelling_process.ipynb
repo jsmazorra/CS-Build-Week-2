{
  "nbformat": 4,
  "nbformat_minor": 0,
  "metadata": {
    "colab": {
      "name": "data_modelling_process.ipynb",
      "provenance": [],
      "collapsed_sections": []
    },
    "kernelspec": {
      "name": "python3",
      "display_name": "Python 3"
    }
  },
  "cells": [
    {
      "cell_type": "code",
      "metadata": {
        "id": "u3J1jPIf8ZW-",
        "colab_type": "code",
        "colab": {}
      },
      "source": [
        "# python package to allow for dotenv in colab\n",
        "!pip install colab-env -qU\n",
        "from colab_env import envvar_handler"
      ],
      "execution_count": 0,
      "outputs": []
    },
    {
      "cell_type": "code",
      "metadata": {
        "id": "c1bIBDnP_QG_",
        "colab_type": "code",
        "colab": {}
      },
      "source": [
        "# install pre-trained model\n",
        "!pip install vaderSentiment"
      ],
      "execution_count": 0,
      "outputs": []
    },
    {
      "cell_type": "code",
      "metadata": {
        "id": "61vvtyI5-ifP",
        "colab_type": "code",
        "colab": {}
      },
      "source": [
        "import os\n",
        "from dotenv import load_dotenv\n",
        "load_dotenv('vars.env')\n",
        "import psycopg2\n",
        "\n",
        "# dotenv variables to access databasse\n",
        "DB_NAME = os.getenv('DB_NAME')\n",
        "DB_USER = os.getenv('DB_USER')\n",
        "DB_PASS = os.getenv('DB_PASS')\n",
        "DB_HOST = os.getenv('DB_HOST')\n",
        "\n",
        "# set up postgres connection\n",
        "conn = psycopg2.connect(dbname=DB_NAME, user=DB_USER,\n",
        "                        password=DB_PASS, host=DB_HOST)\n",
        "cursor = conn.cursor()"
      ],
      "execution_count": 0,
      "outputs": []
    },
    {
      "cell_type": "code",
      "metadata": {
        "id": "6sq2kPyCCqDI",
        "colab_type": "code",
        "colab": {}
      },
      "source": [
        "# Find all entries without scores\n",
        "query = '''\n",
        "SELECT comment_id, comment_text \n",
        "FROM salty_db_2\n",
        "WHERE salty_comment_score_pos IS NULL\n",
        "'''\n",
        "\n",
        "cursor.execute(query)\n",
        "records = cursor.fetchall()\n",
        "\n",
        "# will fail if no entries are found\n",
        "print(records[0])"
      ],
      "execution_count": 0,
      "outputs": []
    },
    {
      "cell_type": "code",
      "metadata": {
        "id": "EiEFl6FAaNhG",
        "colab_type": "code",
        "colab": {}
      },
      "source": [
        "from vaderSentiment.vaderSentiment import SentimentIntensityAnalyzer\n",
        "analyzer = SentimentIntensityAnalyzer()\n",
        "# get all records without scores\n",
        "for record in records:\n",
        "  # score them\n",
        "  neg = analyzer.polarity_scores(record[1])['neg']\n",
        "  pos = analyzer.polarity_scores(record[1])['pos']\n",
        "  # update database with scores\n",
        "  query = f'''\n",
        "    UPDATE salty_db_2\n",
        "    SET salty_comment_score_pos = {pos}, salty_comment_score_neg = {neg}\n",
        "    WHERE comment_id = {record[0]}\n",
        "  '''\n",
        "  cursor.execute(query)\n",
        "conn.commit()"
      ],
      "execution_count": 0,
      "outputs": []
    },
    {
      "cell_type": "code",
      "metadata": {
        "id": "MFUuXl1MDlNX",
        "colab_type": "code",
        "colab": {}
      },
      "source": [
        "# close postgres connection\n",
        "conn.close()"
      ],
      "execution_count": 0,
      "outputs": []
    }
  ]
}